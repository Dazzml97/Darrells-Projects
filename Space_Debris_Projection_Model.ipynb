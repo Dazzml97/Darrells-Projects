{
 "cells": [
  {
   "cell_type": "markdown",
   "metadata": {},
   "source": [
    "# Space Debris Projection Model\n",
    "\n",
    "This notebook provides an overview and implementation of a model designed to project the growth of space objects and debris using probabilistic economic theory. \n",
    "The model estimates the increase in trackable space objects and the probability of orbital collisions based on economic growth data and probabilistic methods."
   ]
  },
  {
   "cell_type": "markdown",
   "metadata": {},
   "source": [
    "## Key Components of the Model\n",
    "1. **Economic Growth Correlation**: The model uses an Ordinary Least Squares (OLS) regression to establish a relationship between the global space economy (GSE) and the growth rate of trackable objects in space.\n",
    "2. **Growth Rate Calculation**: The base growth rate $(g^T)$ of trackable objects is computed using the average GSE growth rate of 5% from 2011-2022. The commercialized growth rate $(g^{T_c})$ considers an increased economic activity with a projected growth rate of 8.2%.\n",
    "3. **Collision Debris**: The model estimates additional debris created by collisions, using a Poisson distribution to predict the probability of collisions.\n",
    "\n",
    "## Model Formula\n",
    "1. **Total Objects in Space**:\n",
    "    $$\n",
    "    A_t = T_0(1 + g^T)^t + ΔT_t + ΔS_t + ΔC_t\n",
    "    $$\n",
    "    Where:\n",
    "    - $(T_0)$:  Initial number of trackable objects.\n",
    "    - $(g^T)$:  Growth rate of trackable objects.\n",
    "    - $(ΔT_t)$: Additional trackable objects due to commercialisation.\n",
    "    - $(ΔS_t)$: Additional satellites launched.\n",
    "    - $(ΔC_t)$: Additional debris from collisions.\n",
    "\n",
    "2. **Growth Rate**:\n",
    "    - Business-as-usual growth rate of trackable objects: $( g^T = ϵ^T \\cdot G^T = 1.3 \\cdot 5.0\\% = 6.3\\% )$\n",
    "    - Commercialized growth rate: $( g^{T_c} = ϵ^T \\cdot G^{T_c} = 1.3 \\cdot 8.2\\% = 10.3\\%)$\n",
    "\n",
    "3. **Collision Debris**:\n",
    "    $$\n",
    "    ΔC_t = F \\cdot P(k)\n",
    "    $$\n",
    "    Where:\n",
    "    - $( F = 2000)$: Average number of debris fragments from a collision.\n",
    "    - $(P(k))$: Probability of at least one collision per year, following a Poisson distribution.\n",
    "\n",
    "## Data and Assumptions\n",
    "- The model uses data from sources such as ESA and NASA.\n",
    "- Assumptions include a Poisson distribution for modeling collision probabilities and an economic growth rate projection based on historical GSE data.\n",
    "\n",
    "### Note\n",
    "- It should be noted that all the calculations were done within excel\n",
    "   "
   ]
  },
  {
   "cell_type": "markdown",
   "metadata": {},
   "source": [
    "## 1. Data Loading and Preparation\n",
    "\n",
    "In this section, we will discuss the data required for the model. This includes:\n",
    "- Historical data on trackable objects in space\n",
    "- Global Space Economy (GSE) data for OLS regression\n",
    "\n",
    "The data was extracted and placed in an excel file"
   ]
  },
  {
   "cell_type": "markdown",
   "metadata": {},
   "source": [
    "\n",
    "## 2. OLS Regression for Growth Rate Estimation\n",
    "\n",
    "We use an OLS regression to estimate the elasticity between the growth of trackable objects and the GSE."
   ]
  },
  {
   "cell_type": "markdown",
   "metadata": {},
   "source": [
    "\n",
    "## 3. Calculation of Trackable Objects Growth\n",
    "\n",
    "Using the elasticity from the OLS regression, we calculate the growth rates for trackable objects under different scenarios.\n"
   ]
  },
  {
   "cell_type": "markdown",
   "metadata": {},
   "source": [
    "## 4. Collision Debris Estimation\n",
    "\n",
    "The model uses a Poisson distribution to estimate the number of debris fragments created by collisions."
   ]
  },
  {
   "cell_type": "markdown",
   "metadata": {},
   "source": [
    "## 5. Scenario Analysis and Projections\n",
    "\n",
    "This section uses the calculated growth rates to project the number of trackable objects and collision debris under different scenarios."
   ]
  }
 ],
 "metadata": {
  "kernelspec": {
   "display_name": "base",
   "language": "python",
   "name": "python3"
  },
  "language_info": {
   "name": "python",
   "version": "3.12.3"
  }
 },
 "nbformat": 4,
 "nbformat_minor": 2
}
